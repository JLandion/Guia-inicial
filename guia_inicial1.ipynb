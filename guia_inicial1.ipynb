{
 "cells": [
  {
   "cell_type": "code",
   "execution_count": 22,
   "metadata": {},
   "outputs": [
    {
     "name": "stdout",
     "output_type": "stream",
     "text": [
      "# Esto no es un comentario.\n"
     ]
    }
   ],
   "source": [
    "# éste es el primer comentario\n",
    "fiambre = 1 # y éste\n",
    "# ... ¡y un tercero!\n",
    "cadena = \"# Esto no es un comentario.\"\n",
    "print(cadena)"
   ]
  },
  {
   "cell_type": "code",
   "execution_count": 8,
   "metadata": {},
   "outputs": [
    {
     "data": {
      "text/plain": [
       "\"'L'Hopital'\""
      ]
     },
     "execution_count": 8,
     "metadata": {},
     "output_type": "execute_result"
    }
   ],
   "source": [
    "###### CADENAS\n",
    "'L\\'Hopital'"
   ]
  },
  {
   "cell_type": "code",
   "execution_count": 9,
   "metadata": {},
   "outputs": [
    {
     "data": {
      "text/plain": [
       "\"'L'Hopital'\""
      ]
     },
     "execution_count": 9,
     "metadata": {},
     "output_type": "execute_result"
    }
   ],
   "source": [
    "\"'L\\'Hopital'\""
   ]
  },
  {
   "cell_type": "code",
   "execution_count": 12,
   "metadata": {},
   "outputs": [
    {
     "name": "stdout",
     "output_type": "stream",
     "text": [
      "Esto es un texto bastante largo que contiene\n",
      "varias líneas de texto, como si fuera C.\n",
      "Observa que el espacio en blanco al principio de la línea es significativo.\n"
     ]
    }
   ],
   "source": [
    "hola = \"Esto es un texto bastante largo que contiene\\n\\\n",
    "varias líneas de texto, como si fuera C.\\n\\\n",
    "Observa que el espacio en blanco al principio de la línea es \\\n",
    "significativo.\"\n",
    "print(hola)"
   ]
  },
  {
   "cell_type": "code",
   "execution_count": 14,
   "metadata": {},
   "outputs": [
    {
     "name": "stdout",
     "output_type": "stream",
     "text": [
      "\n",
      "Uso: cosilla [OPCIONES]\n",
      "-h Mostrar este mensaje de uso\n",
      "-H NombreServidor Nombre del servidor al que conectarse\n",
      "\n"
     ]
    }
   ],
   "source": [
    "print (\"\"\"\n",
    "Uso: cosilla [OPCIONES]\n",
    "-h Mostrar este mensaje de uso\n",
    "-H NombreServidor Nombre del servidor al que conectarse\n",
    "\"\"\")"
   ]
  },
  {
   "cell_type": "code",
   "execution_count": 16,
   "metadata": {},
   "outputs": [
    {
     "name": "stdout",
     "output_type": "stream",
     "text": [
      "Ay\n",
      "udaZ\n"
     ]
    }
   ],
   "source": [
    "palabra = \"Ayuda\" + \"Z\"\n",
    "print(palabra[:2]) # Los primeros dos caracteres\n",
    "print(palabra[2:]) # Todos menos los primeros dos caracteres"
   ]
  },
  {
   "cell_type": "code",
   "execution_count": 20,
   "metadata": {},
   "outputs": [
    {
     "name": "stdout",
     "output_type": "stream",
     "text": [
      "Z\n",
      "a\n",
      "aZ\n",
      "Ayud\n"
     ]
    }
   ],
   "source": [
    " print(palabra[-1]) # El último carácter\n",
    "\n",
    " print(palabra[-2]) # El penúltimo carácter\n",
    "\n",
    " print(palabra[-2:]) # Los dos últimos caracteres\n",
    "\n",
    " print(palabra[:-2]) # Todos menos los dos últimos"
   ]
  },
  {
   "cell_type": "code",
   "execution_count": 22,
   "metadata": {},
   "outputs": [
    {
     "name": "stdout",
     "output_type": "stream",
     "text": [
      "\n",
      " +---+---+---+---+---+---+\n",
      " | A | y | u | d | a | Z |\n",
      " +---+---+---+---+---+---+\n",
      " 0   1   2   3   4   5   6\n",
      "-6  -5  -4  -3  -2  -1\n"
     ]
    }
   ],
   "source": [
    "print(\"\"\"\n",
    " +---+---+---+---+---+---+\n",
    " | A | y | u | d | a | Z |\n",
    " +---+---+---+---+---+---+\n",
    " 0   1   2   3   4   5   6\n",
    "-6  -5  -4  -3  -2  -1\"\"\")"
   ]
  },
  {
   "cell_type": "code",
   "execution_count": 3,
   "metadata": {},
   "outputs": [
    {
     "data": {
      "text/plain": [
       "100"
      ]
     },
     "execution_count": 3,
     "metadata": {},
     "output_type": "execute_result"
    }
   ],
   "source": [
    "###### LISTAS\n",
    "a = [\"fiambre\", \"huevos\", 100, 1234]\n",
    "a[-2]"
   ]
  },
  {
   "cell_type": "code",
   "execution_count": 4,
   "metadata": {},
   "outputs": [
    {
     "data": {
      "text/plain": [
       "['huevos', 100]"
      ]
     },
     "execution_count": 4,
     "metadata": {},
     "output_type": "execute_result"
    }
   ],
   "source": [
    "a[1:-1]"
   ]
  },
  {
   "cell_type": "code",
   "execution_count": 5,
   "metadata": {},
   "outputs": [
    {
     "data": {
      "text/plain": [
       "['huevos', 100]"
      ]
     },
     "execution_count": 5,
     "metadata": {},
     "output_type": "execute_result"
    }
   ],
   "source": [
    "a[1:3]"
   ]
  },
  {
   "cell_type": "code",
   "execution_count": 7,
   "metadata": {},
   "outputs": [
    {
     "data": {
      "text/plain": [
       "['fiambre', 'huevos', 'panceta', 4]"
      ]
     },
     "execution_count": 7,
     "metadata": {},
     "output_type": "execute_result"
    }
   ],
   "source": [
    "a[:2] + [\"panceta\", 2*2]"
   ]
  },
  {
   "cell_type": "code",
   "execution_count": 8,
   "metadata": {},
   "outputs": [
    {
     "data": {
      "text/plain": [
       "['fiambre',\n",
       " 'huevos',\n",
       " 100,\n",
       " 'fiambre',\n",
       " 'huevos',\n",
       " 100,\n",
       " 'fiambre',\n",
       " 'huevos',\n",
       " 100,\n",
       " '¡Hey!']"
      ]
     },
     "execution_count": 8,
     "metadata": {},
     "output_type": "execute_result"
    }
   ],
   "source": [
    "3*a[:3] + [\"¡Hey!\"]"
   ]
  },
  {
   "cell_type": "code",
   "execution_count": 9,
   "metadata": {},
   "outputs": [
    {
     "data": {
      "text/plain": [
       "['fiambre',\n",
       " 'huevos',\n",
       " 100,\n",
       " 1234,\n",
       " 'fiambre',\n",
       " 'huevos',\n",
       " 100,\n",
       " 1234,\n",
       " 'fiambre',\n",
       " 'huevos',\n",
       " 100,\n",
       " 1234]"
      ]
     },
     "execution_count": 9,
     "metadata": {},
     "output_type": "execute_result"
    }
   ],
   "source": [
    "3*a"
   ]
  },
  {
   "cell_type": "code",
   "execution_count": 12,
   "metadata": {},
   "outputs": [
    {
     "data": {
      "text/plain": [
       "['fiambre', 'huevos', 169, 1234]"
      ]
     },
     "execution_count": 12,
     "metadata": {},
     "output_type": "execute_result"
    }
   ],
   "source": [
    "a[2] +=  23\n",
    "a"
   ]
  },
  {
   "cell_type": "code",
   "execution_count": 13,
   "metadata": {},
   "outputs": [
    {
     "data": {
      "text/plain": [
       "[1, 12, 169, 1234]"
      ]
     },
     "execution_count": 13,
     "metadata": {},
     "output_type": "execute_result"
    }
   ],
   "source": [
    "# Reemplazar elementos:\n",
    "a[0:2] = [1, 12]\n",
    "a"
   ]
  },
  {
   "cell_type": "code",
   "execution_count": 14,
   "metadata": {},
   "outputs": [
    {
     "data": {
      "text/plain": [
       "[1, 'puaj', 'xyzzy', 12, 169, 1234]"
      ]
     },
     "execution_count": 14,
     "metadata": {},
     "output_type": "execute_result"
    }
   ],
   "source": [
    "a[1:1] = [\"puaj\", \"xyzzy\"]\n",
    "a"
   ]
  },
  {
   "cell_type": "code",
   "execution_count": 15,
   "metadata": {},
   "outputs": [
    {
     "data": {
      "text/plain": [
       "6"
      ]
     },
     "execution_count": 15,
     "metadata": {},
     "output_type": "execute_result"
    }
   ],
   "source": [
    "len(a)"
   ]
  },
  {
   "cell_type": "code",
   "execution_count": 17,
   "metadata": {},
   "outputs": [
    {
     "data": {
      "text/plain": [
       "3"
      ]
     },
     "execution_count": 17,
     "metadata": {},
     "output_type": "execute_result"
    }
   ],
   "source": [
    "# Es posible anidar listas (crear listas que contienen otras listas),\n",
    "# por ejemplo:\n",
    "q = [2, 3]\n",
    "p = [1, q, 4]\n",
    "len(p)"
   ]
  },
  {
   "cell_type": "code",
   "execution_count": 18,
   "metadata": {},
   "outputs": [
    {
     "data": {
      "text/plain": [
       "[2, 3]"
      ]
     },
     "execution_count": 18,
     "metadata": {},
     "output_type": "execute_result"
    }
   ],
   "source": [
    "p[1]"
   ]
  },
  {
   "cell_type": "code",
   "execution_count": 19,
   "metadata": {},
   "outputs": [
    {
     "data": {
      "text/plain": [
       "[1, [2, 3, 'xtra'], 4]"
      ]
     },
     "execution_count": 19,
     "metadata": {},
     "output_type": "execute_result"
    }
   ],
   "source": [
    "p[1].append(\"xtra\")\n",
    "p"
   ]
  },
  {
   "cell_type": "code",
   "execution_count": null,
   "metadata": {},
   "outputs": [],
   "source": []
  }
 ],
 "metadata": {
  "kernelspec": {
   "display_name": "Python 3",
   "language": "python",
   "name": "python3"
  },
  "language_info": {
   "codemirror_mode": {
    "name": "ipython",
    "version": 3
   },
   "file_extension": ".py",
   "mimetype": "text/x-python",
   "name": "python",
   "nbconvert_exporter": "python",
   "pygments_lexer": "ipython3",
   "version": "3.7.3"
  }
 },
 "nbformat": 4,
 "nbformat_minor": 2
}
