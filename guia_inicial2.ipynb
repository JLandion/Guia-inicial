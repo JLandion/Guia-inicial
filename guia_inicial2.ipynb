{
 "cells": [
  {
   "cell_type": "code",
   "execution_count": 2,
   "metadata": {},
   "outputs": [
    {
     "name": "stdout",
     "output_type": "stream",
     "text": [
      "1\n",
      "1\n",
      "2\n",
      "3\n",
      "5\n",
      "8\n",
      "13\n",
      "21\n",
      "34\n",
      "55\n",
      "89\n",
      "144\n",
      "233\n",
      "377\n",
      "610\n",
      "987\n"
     ]
    }
   ],
   "source": [
    "# Serie Fibonacci\n",
    "a, b = 0, 1\n",
    "while b < 1000:\n",
    "    print (b)\n",
    "    a, b = b, a+b"
   ]
  },
  {
   "cell_type": "code",
   "execution_count": 7,
   "metadata": {},
   "outputs": [
    {
     "name": "stdout",
     "output_type": "stream",
     "text": [
      "gato 4\n",
      "ventana 7\n",
      "defenestrar 11\n"
     ]
    }
   ],
   "source": [
    "# Medir algunas cadenas:\n",
    "a = [\"gato\", \"ventana\", \"defenestrar\"]\n",
    "for x in a:\n",
    "    print(x, len(x))"
   ]
  },
  {
   "cell_type": "code",
   "execution_count": 11,
   "metadata": {},
   "outputs": [
    {
     "data": {
      "text/plain": [
       "['defenestrar',\n",
       " 'ventana',\n",
       " 'defenestrar',\n",
       " 'defenestrar',\n",
       " 'gato',\n",
       " 'ventana',\n",
       " 'defenestrar']"
      ]
     },
     "execution_count": 11,
     "metadata": {},
     "output_type": "execute_result"
    }
   ],
   "source": [
    "for x in a[:]: # hacer una copia por corte de la lista entera\n",
    "    if len(x) > 4: a.insert(0, x)\n",
    "a"
   ]
  },
  {
   "cell_type": "code",
   "execution_count": 13,
   "metadata": {},
   "outputs": [
    {
     "name": "stdout",
     "output_type": "stream",
     "text": [
      "2 es primo\n",
      "3 es primo\n",
      "4 = 2 * 2.0\n",
      "5 es primo\n",
      "6 = 2 * 3.0\n",
      "7 es primo\n",
      "8 = 2 * 4.0\n",
      "9 = 3 * 3.0\n",
      "10 = 2 * 5.0\n",
      "11 es primo\n",
      "12 = 2 * 6.0\n",
      "13 es primo\n",
      "14 = 2 * 7.0\n",
      "15 = 3 * 5.0\n",
      "16 = 2 * 8.0\n",
      "17 es primo\n",
      "18 = 2 * 9.0\n",
      "19 es primo\n",
      "20 = 2 * 10.0\n",
      "21 = 3 * 7.0\n",
      "22 = 2 * 11.0\n",
      "23 es primo\n",
      "24 = 2 * 12.0\n",
      "25 = 5 * 5.0\n",
      "26 = 2 * 13.0\n",
      "27 = 3 * 9.0\n",
      "28 = 2 * 14.0\n",
      "29 es primo\n",
      "30 = 2 * 15.0\n",
      "31 es primo\n",
      "32 = 2 * 16.0\n",
      "33 = 3 * 11.0\n",
      "34 = 2 * 17.0\n",
      "35 = 5 * 7.0\n",
      "36 = 2 * 18.0\n",
      "37 es primo\n",
      "38 = 2 * 19.0\n",
      "39 = 3 * 13.0\n",
      "40 = 2 * 20.0\n",
      "41 es primo\n",
      "42 = 2 * 21.0\n",
      "43 es primo\n",
      "44 = 2 * 22.0\n",
      "45 = 3 * 15.0\n",
      "46 = 2 * 23.0\n",
      "47 es primo\n",
      "48 = 2 * 24.0\n",
      "49 = 7 * 7.0\n",
      "50 = 2 * 25.0\n",
      "51 = 3 * 17.0\n",
      "52 = 2 * 26.0\n",
      "53 es primo\n",
      "54 = 2 * 27.0\n",
      "55 = 5 * 11.0\n",
      "56 = 2 * 28.0\n",
      "57 = 3 * 19.0\n",
      "58 = 2 * 29.0\n",
      "59 es primo\n",
      "60 = 2 * 30.0\n",
      "61 es primo\n",
      "62 = 2 * 31.0\n",
      "63 = 3 * 21.0\n",
      "64 = 2 * 32.0\n",
      "65 = 5 * 13.0\n",
      "66 = 2 * 33.0\n",
      "67 es primo\n",
      "68 = 2 * 34.0\n",
      "69 = 3 * 23.0\n",
      "70 = 2 * 35.0\n",
      "71 es primo\n",
      "72 = 2 * 36.0\n",
      "73 es primo\n",
      "74 = 2 * 37.0\n",
      "75 = 3 * 25.0\n",
      "76 = 2 * 38.0\n",
      "77 = 7 * 11.0\n",
      "78 = 2 * 39.0\n",
      "79 es primo\n",
      "80 = 2 * 40.0\n",
      "81 = 3 * 27.0\n",
      "82 = 2 * 41.0\n",
      "83 es primo\n",
      "84 = 2 * 42.0\n",
      "85 = 5 * 17.0\n",
      "86 = 2 * 43.0\n",
      "87 = 3 * 29.0\n",
      "88 = 2 * 44.0\n",
      "89 es primo\n",
      "90 = 2 * 45.0\n",
      "91 = 7 * 13.0\n",
      "92 = 2 * 46.0\n",
      "93 = 3 * 31.0\n",
      "94 = 2 * 47.0\n",
      "95 = 5 * 19.0\n",
      "96 = 2 * 48.0\n",
      "97 es primo\n",
      "98 = 2 * 49.0\n",
      "99 = 3 * 33.0\n"
     ]
    }
   ],
   "source": [
    "for n in range(2, 100):\n",
    "    for x in range(2, n):\n",
    "        if n % x == 0:\n",
    "            print(n, \"=\", x, \"*\", n/x)\n",
    "            break\n",
    "    else: #Se terminó el bucle sin encontrar ningún factor\n",
    "        print (n, \"es primo\")\n"
   ]
  },
  {
   "cell_type": "code",
   "execution_count": 16,
   "metadata": {},
   "outputs": [],
   "source": [
    "# Serie fibonacci en una funcion\n",
    "def fib(n): # escribir la serie Fibonacci hasta n\n",
    "    \"\"\"Escribir la serie Fibonacci hasta n.\"\"\"\n",
    "    a, b = 0, 1\n",
    "    while b < n:\n",
    "        print (b)\n",
    "        a, b = b, a+b"
   ]
  },
  {
   "cell_type": "code",
   "execution_count": 17,
   "metadata": {},
   "outputs": [
    {
     "name": "stdout",
     "output_type": "stream",
     "text": [
      "1\n",
      "1\n",
      "2\n",
      "3\n",
      "5\n",
      "8\n",
      "13\n",
      "21\n",
      "34\n",
      "55\n",
      "89\n",
      "144\n",
      "233\n",
      "377\n",
      "610\n",
      "987\n",
      "1597\n"
     ]
    }
   ],
   "source": [
    "fib(2000)"
   ]
  },
  {
   "cell_type": "code",
   "execution_count": 6,
   "metadata": {},
   "outputs": [],
   "source": [
    "# Más sobre la definición de funciones. \n",
    "# Valores por omision en los argumentos\n",
    "def confirmar(indicador, intentos=4, queja=\"¡O sí o no!\"):\n",
    "    while True:\n",
    "        respuesta = raw_input(indicador)\n",
    "        if respuesta in (\"s\", \"si\", \"sí\"): return True\n",
    "        if respuesta in (\"n\", \"no\", \"nanay\", \"nasti\"): return False\n",
    "        intentos = intentos - 1\n",
    "        if intentos < 0: \n",
    "            raise IOError\n",
    "            print(\"Usuario rechazado\")\n",
    "        print(queja)"
   ]
  },
  {
   "cell_type": "code",
   "execution_count": 9,
   "metadata": {},
   "outputs": [
    {
     "name": "stdout",
     "output_type": "stream",
     "text": [
      "[1]\n",
      "[1, 2]\n",
      "[1, 2, 3]\n"
     ]
    }
   ],
   "source": [
    "def f(a, L = []):\n",
    "    L.append(a)\n",
    "    return L\n",
    "print(f(1))\n",
    "print(f(2))\n",
    "print(f(3))"
   ]
  },
  {
   "cell_type": "code",
   "execution_count": 13,
   "metadata": {},
   "outputs": [],
   "source": [
    "# También se puede llamar a una función utilizando la forma\n",
    "# ‘clave = valor’. Por ejemplo, la siguiente función:\n",
    "    \n",
    "def loro(tension, estado=\"tieso\", accion=\"voom\", tipo=\"Azul noruego\"):\n",
    "    print (\"-- Este loro no podría\", accion)\n",
    "    print (\"aunque le aplicara\", tension, \"voltios.\")\n",
    "    print (\"-- Bello plumaje, el\", tipo)\n",
    "    print (\"-- ¡Está\", estado, \"!\")"
   ]
  },
  {
   "cell_type": "code",
   "execution_count": 15,
   "metadata": {},
   "outputs": [
    {
     "name": "stdout",
     "output_type": "stream",
     "text": [
      "-- Este loro no podría voom\n",
      "aunque le aplicara 1000 voltios.\n",
      "-- Bello plumaje, el Azul noruego\n",
      "-- ¡Está tieso !\n",
      "-- Este loro no podría VOOOOOM\n",
      "aunque le aplicara 1000000 voltios.\n",
      "-- Bello plumaje, el Azul noruego\n",
      "-- ¡Está tieso !\n",
      "-- Este loro no podría voom\n",
      "aunque le aplicara mil voltios.\n",
      "-- Bello plumaje, el Azul noruego\n",
      "-- ¡Está criando malvas !\n",
      "-- Este loro no podría saltar\n",
      "aunque le aplicara un millón de voltios.\n",
      "-- Bello plumaje, el Azul noruego\n",
      "-- ¡Está desprovisto de vida !\n"
     ]
    }
   ],
   "source": [
    "# Puede invocarse de estas maneras:\n",
    "loro(1000)\n",
    "loro(accion = \"VOOOOOM\", tension = 1000000)\n",
    "loro(\"mil\", estado = \"criando malvas\")\n",
    "loro(\"un millón de\", \"desprovisto de vida\", \"saltar\")\n",
    "\n",
    "# Pero no de estas:\n",
    "#loro()                        \n",
    "# falta un argumento obligatorio\n",
    "\n",
    "#loro(tension=5.0, ’muerto’)   \n",
    "# argumento clave seguido por argumento no-clave\n",
    "\n",
    "#loro(110, tension=220)        \n",
    "# valor de argumento duplicado\n",
    "\n",
    "#loro(actor=’John Cleese’)     \n",
    "# clave desconocida"
   ]
  },
  {
   "cell_type": "code",
   "execution_count": 27,
   "metadata": {
    "scrolled": true
   },
   "outputs": [
    {
     "data": {
      "text/plain": [
       "43"
      ]
     },
     "execution_count": 27,
     "metadata": {},
     "output_type": "execute_result"
    }
   ],
   "source": [
    "##### FORMAS DE LAMBDA\n",
    "def montar_incrementador(n):\n",
    "    return lambda x: x + n\n",
    "f = montar_incrementador(42)\n",
    "f(0) # 42\n",
    "f(1)"
   ]
  }
 ],
 "metadata": {
  "kernelspec": {
   "display_name": "Python 3",
   "language": "python",
   "name": "python3"
  }
 },
 "nbformat": 4,
 "nbformat_minor": 2
}
